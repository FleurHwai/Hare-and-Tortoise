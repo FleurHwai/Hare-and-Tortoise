{
 "cells": [
  {
   "cell_type": "code",
   "execution_count": 4,
   "id": "700a1c77",
   "metadata": {},
   "outputs": [
    {
     "name": "stdout",
     "output_type": "stream",
     "text": [
      "Collecting torch\n",
      "  Downloading torch-1.12.1-cp39-cp39-win_amd64.whl (161.8 MB)\n",
      "Requirement already satisfied: typing-extensions in c:\\users\\hakyu\\anaconda3\\lib\\site-packages (from torch) (4.1.1)\n",
      "Installing collected packages: torch\n",
      "Successfully installed torch-1.12.1\n"
     ]
    }
   ],
   "source": [
    "## 파이토치 설치\n",
    "\n",
    "!pip install torch"
   ]
  },
  {
   "cell_type": "code",
   "execution_count": 1,
   "id": "acbc7b2d",
   "metadata": {},
   "outputs": [],
   "source": [
    "import torch\n",
    "import torch.nn as nn\n",
    "import numpy as np\n",
    "import pandas as pd\n",
    "import matplotlib.pyplot as plt\n",
    "import seaborn as sns\n",
    "%matplotlib inline"
   ]
  },
  {
   "cell_type": "code",
   "execution_count": 2,
   "id": "5bb7a0f3",
   "metadata": {},
   "outputs": [
    {
     "data": {
      "text/html": [
       "<div>\n",
       "<style scoped>\n",
       "    .dataframe tbody tr th:only-of-type {\n",
       "        vertical-align: middle;\n",
       "    }\n",
       "\n",
       "    .dataframe tbody tr th {\n",
       "        vertical-align: top;\n",
       "    }\n",
       "\n",
       "    .dataframe thead th {\n",
       "        text-align: right;\n",
       "    }\n",
       "</style>\n",
       "<table border=\"1\" class=\"dataframe\">\n",
       "  <thead>\n",
       "    <tr style=\"text-align: right;\">\n",
       "      <th></th>\n",
       "      <th>price</th>\n",
       "      <th>maint</th>\n",
       "      <th>doors</th>\n",
       "      <th>persons</th>\n",
       "      <th>lug_capacity</th>\n",
       "      <th>safety</th>\n",
       "      <th>output</th>\n",
       "    </tr>\n",
       "  </thead>\n",
       "  <tbody>\n",
       "    <tr>\n",
       "      <th>0</th>\n",
       "      <td>vhigh</td>\n",
       "      <td>vhigh</td>\n",
       "      <td>2</td>\n",
       "      <td>2</td>\n",
       "      <td>small</td>\n",
       "      <td>low</td>\n",
       "      <td>unacc</td>\n",
       "    </tr>\n",
       "    <tr>\n",
       "      <th>1</th>\n",
       "      <td>vhigh</td>\n",
       "      <td>vhigh</td>\n",
       "      <td>2</td>\n",
       "      <td>2</td>\n",
       "      <td>small</td>\n",
       "      <td>med</td>\n",
       "      <td>unacc</td>\n",
       "    </tr>\n",
       "    <tr>\n",
       "      <th>2</th>\n",
       "      <td>vhigh</td>\n",
       "      <td>vhigh</td>\n",
       "      <td>2</td>\n",
       "      <td>2</td>\n",
       "      <td>small</td>\n",
       "      <td>high</td>\n",
       "      <td>unacc</td>\n",
       "    </tr>\n",
       "    <tr>\n",
       "      <th>3</th>\n",
       "      <td>vhigh</td>\n",
       "      <td>vhigh</td>\n",
       "      <td>2</td>\n",
       "      <td>2</td>\n",
       "      <td>med</td>\n",
       "      <td>low</td>\n",
       "      <td>unacc</td>\n",
       "    </tr>\n",
       "    <tr>\n",
       "      <th>4</th>\n",
       "      <td>vhigh</td>\n",
       "      <td>vhigh</td>\n",
       "      <td>2</td>\n",
       "      <td>2</td>\n",
       "      <td>med</td>\n",
       "      <td>med</td>\n",
       "      <td>unacc</td>\n",
       "    </tr>\n",
       "  </tbody>\n",
       "</table>\n",
       "</div>"
      ],
      "text/plain": [
       "   price  maint doors persons lug_capacity safety output\n",
       "0  vhigh  vhigh     2       2        small    low  unacc\n",
       "1  vhigh  vhigh     2       2        small    med  unacc\n",
       "2  vhigh  vhigh     2       2        small   high  unacc\n",
       "3  vhigh  vhigh     2       2          med    low  unacc\n",
       "4  vhigh  vhigh     2       2          med    med  unacc"
      ]
     },
     "execution_count": 2,
     "metadata": {},
     "output_type": "execute_result"
    }
   ],
   "source": [
    "# 데이터 불러오기\n",
    "data=pd.read_csv(\"./car_evaluation.csv\")\n",
    "data.head()"
   ]
  },
  {
   "cell_type": "code",
   "execution_count": null,
   "id": "4c42a818",
   "metadata": {},
   "outputs": [],
   "source": [
    "## EDA\n",
    "fig_size=plt.rcParams['figure.figsize']\n",
    "fig_size[0]=8\n",
    "fig_size[1]=6\n",
    "plt.rcParams['figure.figsize']=fig_size\n",
    "\n",
    "data.output.value_counts().plot(kind='pie',autopct='0.05f%%',colors=['lightblue','lightgree','orange','pink'],explode=(0.05,0.05,0.05,0.05))"
   ]
  },
  {
   "cell_type": "code",
   "execution_count": 3,
   "id": "73185855",
   "metadata": {},
   "outputs": [
    {
     "data": {
      "text/plain": [
       "array([[3, 3, 0, 0, 2, 1],\n",
       "       [3, 3, 0, 0, 2, 2],\n",
       "       [3, 3, 0, 0, 2, 0],\n",
       "       [3, 3, 0, 0, 1, 1],\n",
       "       [3, 3, 0, 0, 1, 2],\n",
       "       [3, 3, 0, 0, 1, 0],\n",
       "       [3, 3, 0, 0, 0, 1],\n",
       "       [3, 3, 0, 0, 0, 2],\n",
       "       [3, 3, 0, 0, 0, 0],\n",
       "       [3, 3, 0, 1, 2, 1]], dtype=int8)"
      ]
     },
     "execution_count": 3,
     "metadata": {},
     "output_type": "execute_result"
    }
   ],
   "source": [
    "## 카테고리 칼럼 변환\n",
    "categorical_columns=['price','maint','doors','persons','lug_capacity','safety']\n",
    "\n",
    "for category in categorical_columns:\n",
    "    data[category]=data[category].astype('category')\n",
    "    \n",
    "price=data['price'].cat.codes.values\n",
    "maint=data['maint'].cat.codes.values\n",
    "doors=data['doors'].cat.codes.values\n",
    "persons=data['persons'].cat.codes.values\n",
    "lug_capacity=data['lug_capacity'].cat.codes.values\n",
    "safety=data['safety'].cat.codes.values\n",
    "\n",
    "categorical_data=np.stack([price,maint,doors,persons,lug_capacity,safety],1)\n",
    "categorical_data[:10]"
   ]
  },
  {
   "cell_type": "code",
   "execution_count": 4,
   "id": "f08da04c",
   "metadata": {},
   "outputs": [
    {
     "data": {
      "text/plain": [
       "tensor([[3, 3, 0, 0, 2, 1],\n",
       "        [3, 3, 0, 0, 2, 2],\n",
       "        [3, 3, 0, 0, 2, 0],\n",
       "        [3, 3, 0, 0, 1, 1],\n",
       "        [3, 3, 0, 0, 1, 2],\n",
       "        [3, 3, 0, 0, 1, 0],\n",
       "        [3, 3, 0, 0, 0, 1],\n",
       "        [3, 3, 0, 0, 0, 2],\n",
       "        [3, 3, 0, 0, 0, 0],\n",
       "        [3, 3, 0, 1, 2, 1]])"
      ]
     },
     "execution_count": 4,
     "metadata": {},
     "output_type": "execute_result"
    }
   ],
   "source": [
    "## 카테고리 칼럼 -> 텐서로 변환\n",
    "categorical_data=torch.tensor(categorical_data,dtype=torch.int64)\n",
    "categorical_data[:10]"
   ]
  },
  {
   "cell_type": "code",
   "execution_count": 5,
   "id": "13304d53",
   "metadata": {},
   "outputs": [
    {
     "name": "stdout",
     "output_type": "stream",
     "text": [
      "torch.Size([1728, 6])\n",
      "torch.Size([6912])\n"
     ]
    }
   ],
   "source": [
    "## get_dummies를 이용해 output 칼럼 변환\n",
    "outputs=pd.get_dummies(data.output)\n",
    "outputs=outputs.values\n",
    "outputs=torch.tensor(outputs).flatten() ## 1차원 텐서로 변환\n",
    "\n",
    "print(categorical_data.shape)\n",
    "print(outputs.shape)"
   ]
  },
  {
   "cell_type": "code",
   "execution_count": 6,
   "id": "51d9e394",
   "metadata": {},
   "outputs": [
    {
     "name": "stdout",
     "output_type": "stream",
     "text": [
      "[(4, 2), (4, 2), (4, 2), (3, 2), (3, 2), (3, 2)]\n"
     ]
    }
   ],
   "source": [
    "## 워드 임베딩 크기 설정\n",
    "categorical_column_sizes=[len(data[column].cat.categories) for column in categorical_columns]\n",
    "categorical_embedding_sizes=[(col_size,min(50,(col_size+1)//2)) for col_size in categorical_column_sizes]\n",
    "\n",
    "print(categorical_embedding_sizes) ## (범주형 칼럼의 고유값의 수, 차원 크기)"
   ]
  },
  {
   "cell_type": "code",
   "execution_count": 27,
   "id": "a33a50e3",
   "metadata": {},
   "outputs": [],
   "source": [
    "## 데이터셋 분리\n",
    "total_records=1728\n",
    "test_records=int(total_records*0.2)\n",
    "\n",
    "categorical_train_data=categorical_data[:total_records-test_records]\n",
    "categorical_test_data=categorical_data[total_records-test_records:total_records]\n",
    "train_outputs=outputs[:total_records-test_records]\n",
    "test_outputs=outputs[total_records-test_records:total_records]"
   ]
  },
  {
   "cell_type": "code",
   "execution_count": 11,
   "id": "b4eba662",
   "metadata": {},
   "outputs": [],
   "source": [
    "## 모델 네트워크 생성\n",
    "class Model(nn.Module):\n",
    "    def __init__(self,embedding_size,output_size,layers,p=0.4):\n",
    "        super().__init__()\n",
    "        self.all_embeddings=nn.ModuleList([nn.Embedding(ni,nf) for ni,nf in embedding_size])\n",
    "        self.embedding_dropout=nn.Dropout(p)\n",
    "        \n",
    "        all_layers=[]\n",
    "        num_categorical_cols=sum((nf for ni,nf in embedding_size))\n",
    "        input_size=num_categorical_cols\n",
    "        \n",
    "        for i in layers:\n",
    "            all_layers.append(nn.Linear(input_size,i))\n",
    "            all_layers.append(nn.ReLU(inplace=True))\n",
    "            all_layers.append(nn.BatchNorm1d(i))\n",
    "            all_layers.append(nn.Dropout(p))\n",
    "            input_size=i\n",
    "            \n",
    "        all_layers.append(nn.Linear(layers[-1],output_size))\n",
    "        self.layers=nn.Sequential(*all_layers)\n",
    "        \n",
    "    def forward(self,x_categorical):\n",
    "        embeddings=[]\n",
    "        for i,e in enumerate(self.all_embeddings):\n",
    "            embeddings.append(e(x_categorical[:,i]))\n",
    "        x=torch.cat(embeddings,1)\n",
    "        x=self.embedding_dropout(x)\n",
    "        x=self.layers(x)\n",
    "        return x"
   ]
  },
  {
   "cell_type": "code",
   "execution_count": 13,
   "id": "67a58156",
   "metadata": {},
   "outputs": [
    {
     "name": "stdout",
     "output_type": "stream",
     "text": [
      "Model(\n",
      "  (all_embeddings): ModuleList(\n",
      "    (0): Embedding(4, 2)\n",
      "    (1): Embedding(4, 2)\n",
      "    (2): Embedding(4, 2)\n",
      "    (3): Embedding(3, 2)\n",
      "    (4): Embedding(3, 2)\n",
      "    (5): Embedding(3, 2)\n",
      "  )\n",
      "  (embedding_dropout): Dropout(p=0.4, inplace=False)\n",
      "  (layers): Sequential(\n",
      "    (0): Linear(in_features=12, out_features=200, bias=True)\n",
      "    (1): ReLU(inplace=True)\n",
      "    (2): BatchNorm1d(200, eps=1e-05, momentum=0.1, affine=True, track_running_stats=True)\n",
      "    (3): Dropout(p=0.4, inplace=False)\n",
      "    (4): Linear(in_features=200, out_features=100, bias=True)\n",
      "    (5): ReLU(inplace=True)\n",
      "    (6): BatchNorm1d(100, eps=1e-05, momentum=0.1, affine=True, track_running_stats=True)\n",
      "    (7): Dropout(p=0.4, inplace=False)\n",
      "    (8): Linear(in_features=100, out_features=50, bias=True)\n",
      "    (9): ReLU(inplace=True)\n",
      "    (10): BatchNorm1d(50, eps=1e-05, momentum=0.1, affine=True, track_running_stats=True)\n",
      "    (11): Dropout(p=0.4, inplace=False)\n",
      "    (12): Linear(in_features=50, out_features=4, bias=True)\n",
      "  )\n",
      ")\n"
     ]
    }
   ],
   "source": [
    "## 모델 초기화\n",
    "model=Model(categorical_embedding_sizes,4,[200,100,50],p=0.4)\n",
    "print(model)"
   ]
  },
  {
   "cell_type": "code",
   "execution_count": 14,
   "id": "57fddae5",
   "metadata": {},
   "outputs": [],
   "source": [
    "## 모델 파라미터 정의\n",
    "loss_function=nn.CrossEntropyLoss()\n",
    "optimizer=torch.optim.Adam(model.parameters(),lr=0.001)"
   ]
  },
  {
   "cell_type": "code",
   "execution_count": 15,
   "id": "fe87776d",
   "metadata": {},
   "outputs": [],
   "source": [
    "if torch.cuda.is_available():\n",
    "    device=torch.device('cuda')\n",
    "else:\n",
    "    device=torch.device('cpu')"
   ]
  },
  {
   "cell_type": "code",
   "execution_count": 16,
   "id": "5c04876a",
   "metadata": {},
   "outputs": [
    {
     "name": "stdout",
     "output_type": "stream",
     "text": [
      "epoch:  1 loss:1.63960373\n",
      "epoch: 26 loss:1.45137513\n",
      "epoch: 51 loss:1.36734223\n",
      "epoch: 76 loss:1.23154187\n",
      "epoch:101 loss:1.07761014\n",
      "epoch:126 loss:0.93326908\n",
      "epoch:151 loss:0.82108617\n",
      "epoch:176 loss:0.75516218\n",
      "epoch:201 loss:0.69735128\n",
      "epoch:226 loss:0.66804397\n",
      "epoch:251 loss:0.63743061\n",
      "epoch:276 loss:0.62235022\n",
      "epoch:301 loss:0.60445195\n",
      "epoch:326 loss:0.61003506\n",
      "epoch:351 loss:0.59467822\n",
      "epoch:376 loss:0.59520388\n",
      "epoch:401 loss:0.59085774\n",
      "epoch:426 loss:0.58432341\n",
      "epoch:451 loss:0.57722622\n",
      "epoch:476 loss:0.57491773\n",
      "epoch:500 loss:         1\n"
     ]
    }
   ],
   "source": [
    "epochs=500\n",
    "aggregated_losses=[]\n",
    "train_outputs=train_outputs.to(device=device,dtype=torch.int64)\n",
    "\n",
    "for i in range(epochs):\n",
    "    i+=1\n",
    "    y_pred=model(categorical_train_data)\n",
    "    single_loss=loss_function(y_pred,train_outputs)\n",
    "    aggregated_losses.append(single_loss)\n",
    "    \n",
    "    if i%25==1:\n",
    "        print(f'epoch:{i:3} loss:{single_loss.item():10.8f}')\n",
    "        \n",
    "    optimizer.zero_grad()\n",
    "    single_loss.backward()\n",
    "    optimizer.step()\n",
    "\n",
    "print(f'epoch:{i:3} loss:{single_loss.item():10.0f}')"
   ]
  },
  {
   "cell_type": "code",
   "execution_count": 28,
   "id": "f4a3d0fb",
   "metadata": {},
   "outputs": [
    {
     "name": "stdout",
     "output_type": "stream",
     "text": [
      "Loss: 0.55256742\n"
     ]
    }
   ],
   "source": [
    "test_outputs = test_outputs.to(device=device, dtype=torch.int64)\n",
    "with torch.no_grad():\n",
    "    y_val = model(categorical_test_data).to(device)\n",
    "    loss = loss_function(y_val, test_outputs)\n",
    "print(f'Loss: {loss:.8f}')"
   ]
  },
  {
   "cell_type": "markdown",
   "id": "0d7c50dd",
   "metadata": {},
   "source": [
    "- 마지막 에포크에서 loss 값이 튄 것을 어떻게 해결해야할지는 아직 찾아보는 중\n",
    "- 예상치 못한 이상치가 존재해서지 않을까란 생각\n",
    "- test data로 확인해봤을 때 loss가 0.55로, 다른 train data에서의 loss 값보다 낮아 일단 문제 없다고 생각"
   ]
  },
  {
   "cell_type": "code",
   "execution_count": 29,
   "id": "3b183ac8",
   "metadata": {},
   "outputs": [
    {
     "name": "stdout",
     "output_type": "stream",
     "text": [
      "tensor([[ 2.9704,  1.7372, -2.6595, -2.6399],\n",
      "        [ 2.6280,  1.4437, -2.8888, -2.8278],\n",
      "        [ 3.1629,  1.7796, -4.1434, -4.2581],\n",
      "        [ 2.6304,  1.6518, -2.8058, -2.7679],\n",
      "        [ 1.9476,  1.0910, -1.7264, -1.9949]])\n"
     ]
    }
   ],
   "source": [
    "print(y_val[:5])"
   ]
  },
  {
   "cell_type": "code",
   "execution_count": 30,
   "id": "56af977a",
   "metadata": {},
   "outputs": [
    {
     "name": "stdout",
     "output_type": "stream",
     "text": [
      "[0 0 0 0 0]\n"
     ]
    }
   ],
   "source": [
    "y_val = np.argmax(y_val.cpu().numpy(), axis=1)\n",
    "print(y_val[:5])"
   ]
  },
  {
   "cell_type": "code",
   "execution_count": 31,
   "id": "c4c47d38",
   "metadata": {},
   "outputs": [
    {
     "name": "stdout",
     "output_type": "stream",
     "text": [
      "[[259   0]\n",
      " [ 84   2]]\n",
      "              precision    recall  f1-score   support\n",
      "\n",
      "           0       0.76      1.00      0.86       259\n",
      "           1       1.00      0.02      0.05        86\n",
      "\n",
      "    accuracy                           0.76       345\n",
      "   macro avg       0.88      0.51      0.45       345\n",
      "weighted avg       0.82      0.76      0.66       345\n",
      "\n",
      "0.7565217391304347\n"
     ]
    }
   ],
   "source": [
    "import warnings\n",
    "warnings.filterwarnings('ignore') \n",
    "from sklearn.metrics import classification_report, confusion_matrix, accuracy_score\n",
    "\n",
    "test_outputs=test_outputs.cpu().numpy()\n",
    "print(confusion_matrix(test_outputs,y_val))\n",
    "print(classification_report(test_outputs,y_val))\n",
    "print(accuracy_score(test_outputs, y_val))"
   ]
  },
  {
   "cell_type": "code",
   "execution_count": null,
   "id": "590c0a91",
   "metadata": {},
   "outputs": [],
   "source": []
  }
 ],
 "metadata": {
  "kernelspec": {
   "display_name": "Python 3 (ipykernel)",
   "language": "python",
   "name": "python3"
  },
  "language_info": {
   "codemirror_mode": {
    "name": "ipython",
    "version": 3
   },
   "file_extension": ".py",
   "mimetype": "text/x-python",
   "name": "python",
   "nbconvert_exporter": "python",
   "pygments_lexer": "ipython3",
   "version": "3.9.12"
  }
 },
 "nbformat": 4,
 "nbformat_minor": 5
}
