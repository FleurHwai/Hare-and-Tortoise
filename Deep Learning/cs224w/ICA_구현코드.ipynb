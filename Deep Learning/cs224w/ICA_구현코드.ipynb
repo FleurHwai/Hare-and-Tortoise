{
  "nbformat": 4,
  "nbformat_minor": 0,
  "metadata": {
    "colab": {
      "provenance": []
    },
    "kernelspec": {
      "name": "python3",
      "display_name": "Python 3"
    },
    "language_info": {
      "name": "python"
    }
  },
  "cells": [
    {
      "cell_type": "markdown",
      "source": [
        "## 목적 : implement iterative classification algorithm to classify nodes in the e-mail exchange graph to company management levels (1,2,3)\n",
        "\n",
        "  - [코드 출처](https://github.com/adriannaziel/CollectiveClassification_ICA/blob/master/ICA.ipynb)"
      ],
      "metadata": {
        "id": "uTDsA7CVp6tq"
      }
    },
    {
      "cell_type": "code",
      "execution_count": 2,
      "metadata": {
        "id": "5sBRQq_Bm8Au"
      },
      "outputs": [],
      "source": [
        "# do not show sklearn warnings\n",
        "def warn(*args, **kwargs):\n",
        "    pass\n",
        "import warnings\n",
        "warnings.warn = warn"
      ]
    },
    {
      "cell_type": "code",
      "source": [
        "import csv\n",
        "import numpy as np\n",
        "import pandas as pd\n",
        "import random\n",
        "from sklearn.naive_bayes import GaussianNB\n",
        "from sklearn.metrics import f1_score,classification_report, accuracy_score\n",
        "from sklearn import svm\n",
        "from sklearn.tree import DecisionTreeClassifier\n",
        "import networkx as nx\n",
        "from operator import itemgetter "
      ],
      "metadata": {
        "id": "ZTt2pPOem9Ot"
      },
      "execution_count": 3,
      "outputs": []
    },
    {
      "cell_type": "code",
      "source": [
        "class1 = [86, 7, 27, 36, 69, 70, 85, 104, 121, 148, 156, 163]\n",
        "class2 = [76, 90, 136, 137, 143, 152, 47, 162]\n",
        "#class3 - other"
      ],
      "metadata": {
        "id": "eYqMq68znDPd"
      },
      "execution_count": 4,
      "outputs": []
    },
    {
      "cell_type": "code",
      "source": [
        "## Metadata on email communication\n",
        "\n",
        "communication_data = pd.read_csv('/content/drive/MyDrive/EURON3기-DL/communication.csv', sep =';')  "
      ],
      "metadata": {
        "id": "L-DH7yvxnFQ5"
      },
      "execution_count": 12,
      "outputs": []
    },
    {
      "cell_type": "code",
      "source": [
        "## Corporate hierarchy\n",
        "\n",
        "reportsto_data = pd.read_csv('/content/drive/MyDrive/EURON3기-DL/reportsto.csv', sep =';')  "
      ],
      "metadata": {
        "id": "V2l7c8GvnFO5"
      },
      "execution_count": 13,
      "outputs": []
    },
    {
      "cell_type": "code",
      "source": [
        "## Node Class 설정\n",
        "\n",
        "class Node:\n",
        "    def __init__(self, n_id):\n",
        "        self.n_id = n_id\n",
        "        self.clear()\n",
        "        \n",
        "        \n",
        "    def features(self):\n",
        "        features_array = np.array([self.send, self.received, self.degree, self.betweenness, self.closeness, self.neighbors_1, self.neighbors_2, self.neighbors_3 ])\n",
        "        return features_array\n",
        "    \n",
        "    def set_label(self,l):\n",
        "        if self.label == l:\n",
        "            return False\n",
        "        else:\n",
        "            self.label = l\n",
        "            return True\n",
        "        \n",
        "    def set_values(self,c,b,d):\n",
        "        self.degree = d\n",
        "        self.betweenness = b\n",
        "        self.closeness = c\n",
        "    \n",
        "    \n",
        "    def update_neighbours(self, neighbors):\n",
        "        self.neighbors_2 =0\n",
        "        self.neighbors_3 =0\n",
        "        self.neighbors_1 =0\n",
        "        \n",
        "        for n in neighbors:\n",
        "            nl = n.label\n",
        "            if nl ==1:\n",
        "                self.neighbors_1 +=1\n",
        "            elif nl ==2:\n",
        "                self.neighbors_2 +=1\n",
        "            elif nl ==3:\n",
        "                self.neighbors_3 +=1\n",
        "                \n",
        "    def show(self):\n",
        "        return( self.n_id, \n",
        "              self.known, \n",
        "              self.label,\n",
        "              self.send,\n",
        "              self.received, \n",
        "              self.degree,\n",
        "              self.betweenness,\n",
        "              self.closeness,\n",
        "              self.neighbors_1,\n",
        "              self.neighbors_2,\n",
        "              self.neighbors_3)\n",
        "        \n",
        "    def clear(self):\n",
        "        self.known = False\n",
        "        self.label = -1\n",
        "        self.send = 0\n",
        "        self.received = 0\n",
        "        self.degree = -1\n",
        "        self.betweenness = -1\n",
        "        self.closeness = -1\n",
        "        self.neighbors_1 = 0\n",
        "        self.neighbors_2 = 0\n",
        "        self.neighbors_3 = 0"
      ],
      "metadata": {
        "id": "m61uGgQAnFMe"
      },
      "execution_count": 14,
      "outputs": []
    },
    {
      "cell_type": "code",
      "source": [
        "## 노드의 클래스 확인 후 반환\n",
        "\n",
        "def check_node_value(node_nr):\n",
        "    if node_nr in class1:\n",
        "        return 1\n",
        "    if node_nr in class2:\n",
        "        return 2\n",
        "    return 3"
      ],
      "metadata": {
        "id": "3_jRrhc0nFKm"
      },
      "execution_count": 15,
      "outputs": []
    },
    {
      "cell_type": "code",
      "source": [
        "## 노드의 이웃 노드들 반환\n",
        "\n",
        "def get_node_neighbours(G,n_id,all_nodes):\n",
        "    node_neighbours = []\n",
        "    for nn in G.neighbors(n_id):\n",
        "        node_neighbours.append(all_nodes[nn])\n",
        "    return node_neighbours"
      ],
      "metadata": {
        "id": "Es705Z6QnFIl"
      },
      "execution_count": 16,
      "outputs": []
    },
    {
      "cell_type": "code",
      "source": [
        "def clear_nodes(nodes):\n",
        "    for n in nodes:\n",
        "        nodes[n].clear()"
      ],
      "metadata": {
        "id": "SH-6vhV0nFGU"
      },
      "execution_count": 17,
      "outputs": []
    },
    {
      "cell_type": "code",
      "source": [
        "## 알고 있는 것과 모르고 있는 것 반환\n",
        "\n",
        "def select_known(N, source):\n",
        "    known = [x[0] for x in list(source[:N])]\n",
        "    unknown = [x[0] for x in list(source[N:])]\n",
        "    return known, unknown"
      ],
      "metadata": {
        "id": "_SbSturvnFEB"
      },
      "execution_count": 18,
      "outputs": []
    },
    {
      "cell_type": "code",
      "source": [
        "## 노드를 알고 있는지, 노드의 라벨, 노드의 centrality와 degree들, 이웃들을 설정해 노드들 값 저장\n",
        "\n",
        "def prepare_nodes(k_nodes,betweennes,closeness,degree, nodes, G): \n",
        "    for n in k_nodes:\n",
        "        node = nodes[n]\n",
        "        node.known = True\n",
        "        node.label = check_node_value(n)\n",
        "\n",
        "\n",
        "    for n in nodes:\n",
        "        node = nodes[n]\n",
        "        node.set_values(closeness[n],betweennes[n],degree[n])\n",
        "        node.update_neighbours(get_node_neighbours(G, n,nodes))"
      ],
      "metadata": {
        "id": "tvq8sHO6nFCA"
      },
      "execution_count": 29,
      "outputs": []
    },
    {
      "cell_type": "code",
      "source": [
        "## communication dataset에 있는 sender와 recipient 값을 갖고와 노드 딕셔너리에 저장\n",
        "\n",
        "all_nodes = {}\n",
        "edges_communication_all = []\n",
        "\n",
        "for index, row in communication_data.iterrows():\n",
        "    sender_id = int(row['Sender'])\n",
        "    recipient_id = int(row['Recipient'])\n",
        "    \n",
        "    edges_communication_all.append((sender_id,recipient_id))\n",
        "    \n",
        "    \n",
        "    if recipient_id not in all_nodes:\n",
        "        all_nodes[recipient_id] = Node(recipient_id)\n",
        "        \n",
        "    if sender_id not in all_nodes:\n",
        "        all_nodes[sender_id]  = Node(sender_id)\n",
        "        \n",
        "    all_nodes[recipient_id].received +=1\n",
        "    all_nodes[sender_id].send +=1"
      ],
      "metadata": {
        "id": "NXt8CcMMnS4X"
      },
      "execution_count": 26,
      "outputs": []
    },
    {
      "cell_type": "code",
      "source": [
        "# 중복되는 소통, edge들은 제거\n",
        "\n",
        "edges_communication = []\n",
        "for s,r in edges_communication_all:\n",
        "    if not((s,r) in edges_communication or  (r,s) in edges_communication):\n",
        "        edges_communication.append((s,r))"
      ],
      "metadata": {
        "id": "LWoe2gAZnS2P"
      },
      "execution_count": 27,
      "outputs": []
    },
    {
      "cell_type": "code",
      "source": [
        "## 그래프에 edge 저장\n",
        "\n",
        "G = nx.Graph()\n",
        "G.add_edges_from(edges_communication)"
      ],
      "metadata": {
        "id": "w9kYAuusnSz1"
      },
      "execution_count": 28,
      "outputs": []
    },
    {
      "cell_type": "code",
      "source": [
        "pos = nx.circular_layout(G)\n",
        "\n",
        "nx.draw(G, with_labels=True, node_size=10)"
      ],
      "metadata": {
        "colab": {
          "base_uri": "https://localhost:8080/",
          "height": 319
        },
        "id": "OnAehkn4nSwr",
        "outputId": "8bd154ea-aa58-43d5-bd5b-e1af31f6b7e3"
      },
      "execution_count": 30,
      "outputs": [
        {
          "output_type": "display_data",
          "data": {
            "text/plain": [
              "<Figure size 432x288 with 1 Axes>"
            ],
            "image/png": "[encoded data removed]"
          },
          "metadata": {}
        }
      ]
    },
    {
      "cell_type": "code",
      "source": [
        "## centrality 계산\n",
        "\n",
        "betweenness_dict = nx.betweenness_centrality(G)\n",
        "closeness_dict = nx.closeness_centrality(G)\n",
        "degree_dict = dict(G.degree())\n",
        "betweenness_sorted = sorted(betweenness_dict.items(), key = itemgetter(1), reverse = True) \n",
        "closeness_sorted = sorted(closeness_dict.items(), key = itemgetter(1), reverse = True)\n",
        "degree_sorted = sorted(degree_dict.items(), key = itemgetter(1), reverse = True)"
      ],
      "metadata": {
        "id": "NQCRyDernE_w"
      },
      "execution_count": 31,
      "outputs": []
    },
    {
      "cell_type": "code",
      "source": [
        "## DecisionTreeClassifier, Gaussian Naive Bayer Classifier을 훈련시키는 함수 생성\n",
        "\n",
        "def train_classifier(k_nodes , nodes, classification_type='dt'):\n",
        "    # 훈련 데이터 준비\n",
        "    x_train = []\n",
        "    y_train = []\n",
        "\n",
        "    for k in k_nodes:\n",
        "        n = nodes[k]\n",
        "        x_train.append(n.features()) ## X_train에 노드들의 피처 저장\n",
        "        y_train.append(n.label) ## Y_train에 노드들의 라벨 저장\n",
        "\n",
        "    if classification_type == 'dt':\n",
        "        classifier = DecisionTreeClassifier(random_state =2)\n",
        "    elif classification_type == 'gnb':\n",
        "        classifier = GaussianNB()\n",
        "    else:\n",
        "        raise Exception('This classification type is not available') \n",
        "        \n",
        "    classifier = classifier.fit(x_train, y_train) ## 함수 훈련\n",
        "    return classifier"
      ],
      "metadata": {
        "id": "H-k36hgenE6d"
      },
      "execution_count": 33,
      "outputs": []
    },
    {
      "cell_type": "code",
      "source": [
        "## Classifier을 여러 번 돌리면서 label이 변하는 것이 있는지 확인 후 반환\n",
        "\n",
        "def run_iterative_classification(classifier, nodes_order, nodes, max_iters = 1000, G=G):\n",
        "    MAX_ITERS = max_iters\n",
        "    label_changed = True\n",
        "    n_iter = 0\n",
        "    while label_changed and n_iter<MAX_ITERS:\n",
        "        label_changed = False \n",
        "        for o in nodes_order:\n",
        "            node = nodes[o]\n",
        "            prev_label = node.label\n",
        "            n_neighbours = get_node_neighbours(G, o,all_nodes)\n",
        "            node.update_neighbours(n_neighbours)\n",
        "            nf = node.features()\n",
        "            n_curr_label = classifier.predict([nf])[0]\n",
        "            n_changed = node.set_label(n_curr_label)\n",
        "            if n_changed:\n",
        "                label_changed = True\n",
        "        n_iter+=1\n",
        "    print('Number of iters:', n_iter)"
      ],
      "metadata": {
        "id": "FJ4fwfQOndXt"
      },
      "execution_count": 34,
      "outputs": []
    },
    {
      "cell_type": "code",
      "source": [
        "## F1 SCORE와 ACCURACY 평가\n",
        "\n",
        "def evaluate(nodes_to_evaluate, all_nodes):\n",
        "    true_labels = []\n",
        "    pred_labels = []\n",
        "    for o in nodes_to_evaluate:\n",
        "        n = all_nodes[o]\n",
        "        pred_labels.append(n.label)\n",
        "        true_labels.append(check_node_value(o))\n",
        "    f1 = f1_score(true_labels, pred_labels, average='macro')\n",
        "    accuracy = accuracy_score(true_labels, pred_labels)\n",
        "    #print(classification_report(true_labels, pred_labels))\n",
        "    return f1, accuracy "
      ],
      "metadata": {
        "id": "aSF7ozFPndQ0"
      },
      "execution_count": 35,
      "outputs": []
    },
    {
      "cell_type": "code",
      "source": [
        "b = betweenness_sorted\n",
        "c = closeness_sorted\n",
        "d = degree_sorted"
      ],
      "metadata": {
        "id": "6OSYMfU9ndOY"
      },
      "execution_count": 36,
      "outputs": []
    },
    {
      "cell_type": "code",
      "source": [
        "clear_nodes(all_nodes)\n",
        "known_nodes,unknown_nodes = select_known(20,d)\n",
        "prepare_nodes(known_nodes, betweenness_dict, closeness_dict, degree_dict, nodes = all_nodes,G=G)\n",
        "classifier = train_classifier( k_nodes = known_nodes, nodes = all_nodes)\n",
        "run_iterative_classification(classifier,nodes_order = unknown_nodes,  nodes = all_nodes)\n",
        "evaluate(unknown_nodes, all_nodes)"
      ],
      "metadata": {
        "colab": {
          "base_uri": "https://localhost:8080/"
        },
        "id": "GoLbHKsqndNI",
        "outputId": "6257314c-4420-42d5-8467-c9bf2cc87ecc"
      },
      "execution_count": 40,
      "outputs": [
        {
          "output_type": "stream",
          "name": "stdout",
          "text": [
            "Number of iters: 2\n"
          ]
        },
        {
          "output_type": "execute_result",
          "data": {
            "text/plain": [
              "(0.3075030750307503, 0.8503401360544217)"
            ]
          },
          "metadata": {},
          "execution_count": 40
        }
      ]
    }
  ]
}