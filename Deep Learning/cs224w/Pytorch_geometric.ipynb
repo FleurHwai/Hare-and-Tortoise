{
  "nbformat": 4,
  "nbformat_minor": 0,
  "metadata": {
    "colab": {
      "provenance": []
    },
    "kernelspec": {
      "name": "python3",
      "display_name": "Python 3"
    },
    "language_info": {
      "name": "python"
    }
  },
  "cells": [
    {
      "cell_type": "markdown",
      "source": [
        "### Pytorch Geometric 기초"
      ],
      "metadata": {
        "id": "85z-P5ZTCFKy"
      }
    },
    {
      "cell_type": "code",
      "source": [
        "import torch\n",
        "\n",
        "def format_pytorch_version(version):\n",
        "  return version.split('+')[0]\n",
        "\n",
        "TORCH_version = torch.__version__\n",
        "TORCH = format_pytorch_version(TORCH_version)\n",
        "\n",
        "def format_cuda_version(version):\n",
        "  return 'cu' + version.replace('.', '')\n",
        "\n",
        "CUDA_version = torch.version.cuda\n",
        "CUDA = format_cuda_version(CUDA_version)\n",
        "\n",
        "!pip install torch-scatter     -f https://pytorch-geometric.com/whl/torch-{TORCH}+{CUDA}.html\n",
        "!pip install torch-sparse      -f https://pytorch-geometric.com/whl/torch-{TORCH}+{CUDA}.html\n",
        "!pip install torch-cluster     -f https://pytorch-geometric.com/whl/torch-{TORCH}+{CUDA}.html\n",
        "!pip install torch-spline-conv -f https://pytorch-geometric.com/whl/torch-{TORCH}+{CUDA}.html\n",
        "!pip install torch-geometric "
      ],
      "metadata": {
        "colab": {
          "base_uri": "https://localhost:8080/"
        },
        "id": "5dn_oA4N7uc4",
        "outputId": "4668cbeb-d2e3-41cd-ff38-39a29ce6323a"
      },
      "execution_count": 4,
      "outputs": [
        {
          "output_type": "stream",
          "name": "stdout",
          "text": [
            "Looking in indexes: https://pypi.org/simple, https://us-python.pkg.dev/colab-wheels/public/simple/\n",
            "Looking in links: https://pytorch-geometric.com/whl/torch-1.12.1+cu113.html\n",
            "Collecting torch-scatter\n",
            "  Downloading https://data.pyg.org/whl/torch-1.12.0%2Bcu113/torch_scatter-2.0.9-cp37-cp37m-linux_x86_64.whl (7.9 MB)\n",
            "\u001b[K     |████████████████████████████████| 7.9 MB 10.1 MB/s \n",
            "\u001b[?25hInstalling collected packages: torch-scatter\n",
            "Successfully installed torch-scatter-2.0.9\n",
            "Looking in indexes: https://pypi.org/simple, https://us-python.pkg.dev/colab-wheels/public/simple/\n",
            "Looking in links: https://pytorch-geometric.com/whl/torch-1.12.1+cu113.html\n",
            "Collecting torch-sparse\n",
            "  Downloading https://data.pyg.org/whl/torch-1.12.0%2Bcu113/torch_sparse-0.6.15-cp37-cp37m-linux_x86_64.whl (3.5 MB)\n",
            "\u001b[K     |████████████████████████████████| 3.5 MB 7.3 MB/s \n",
            "\u001b[?25hRequirement already satisfied: scipy in /usr/local/lib/python3.7/dist-packages (from torch-sparse) (1.7.3)\n",
            "Requirement already satisfied: numpy<1.23.0,>=1.16.5 in /usr/local/lib/python3.7/dist-packages (from scipy->torch-sparse) (1.21.6)\n",
            "Installing collected packages: torch-sparse\n",
            "Successfully installed torch-sparse-0.6.15\n",
            "Looking in indexes: https://pypi.org/simple, https://us-python.pkg.dev/colab-wheels/public/simple/\n",
            "Looking in links: https://pytorch-geometric.com/whl/torch-1.12.1+cu113.html\n",
            "Collecting torch-cluster\n",
            "  Downloading https://data.pyg.org/whl/torch-1.12.0%2Bcu113/torch_cluster-1.6.0-cp37-cp37m-linux_x86_64.whl (2.4 MB)\n",
            "\u001b[K     |████████████████████████████████| 2.4 MB 7.3 MB/s \n",
            "\u001b[?25hInstalling collected packages: torch-cluster\n",
            "Successfully installed torch-cluster-1.6.0\n",
            "Looking in indexes: https://pypi.org/simple, https://us-python.pkg.dev/colab-wheels/public/simple/\n",
            "Looking in links: https://pytorch-geometric.com/whl/torch-1.12.1+cu113.html\n",
            "Collecting torch-spline-conv\n",
            "  Downloading https://data.pyg.org/whl/torch-1.12.0%2Bcu113/torch_spline_conv-1.2.1-cp37-cp37m-linux_x86_64.whl (709 kB)\n",
            "\u001b[K     |████████████████████████████████| 709 kB 8.2 MB/s \n",
            "\u001b[?25hInstalling collected packages: torch-spline-conv\n",
            "Successfully installed torch-spline-conv-1.2.1\n",
            "Looking in indexes: https://pypi.org/simple, https://us-python.pkg.dev/colab-wheels/public/simple/\n",
            "Collecting torch-geometric\n",
            "  Using cached torch_geometric-2.1.0.post1.tar.gz (467 kB)\n",
            "Requirement already satisfied: tqdm in /usr/local/lib/python3.7/dist-packages (from torch-geometric) (4.64.1)\n",
            "Requirement already satisfied: numpy in /usr/local/lib/python3.7/dist-packages (from torch-geometric) (1.21.6)\n",
            "Requirement already satisfied: scipy in /usr/local/lib/python3.7/dist-packages (from torch-geometric) (1.7.3)\n",
            "Requirement already satisfied: jinja2 in /usr/local/lib/python3.7/dist-packages (from torch-geometric) (2.11.3)\n",
            "Requirement already satisfied: requests in /usr/local/lib/python3.7/dist-packages (from torch-geometric) (2.23.0)\n",
            "Requirement already satisfied: pyparsing in /usr/local/lib/python3.7/dist-packages (from torch-geometric) (3.0.9)\n",
            "Requirement already satisfied: scikit-learn in /usr/local/lib/python3.7/dist-packages (from torch-geometric) (1.0.2)\n",
            "Requirement already satisfied: MarkupSafe>=0.23 in /usr/local/lib/python3.7/dist-packages (from jinja2->torch-geometric) (2.0.1)\n",
            "Requirement already satisfied: idna<3,>=2.5 in /usr/local/lib/python3.7/dist-packages (from requests->torch-geometric) (2.10)\n",
            "Requirement already satisfied: certifi>=2017.4.17 in /usr/local/lib/python3.7/dist-packages (from requests->torch-geometric) (2022.6.15)\n",
            "Requirement already satisfied: urllib3!=1.25.0,!=1.25.1,<1.26,>=1.21.1 in /usr/local/lib/python3.7/dist-packages (from requests->torch-geometric) (1.24.3)\n",
            "Requirement already satisfied: chardet<4,>=3.0.2 in /usr/local/lib/python3.7/dist-packages (from requests->torch-geometric) (3.0.4)\n",
            "Requirement already satisfied: threadpoolctl>=2.0.0 in /usr/local/lib/python3.7/dist-packages (from scikit-learn->torch-geometric) (3.1.0)\n",
            "Requirement already satisfied: joblib>=0.11 in /usr/local/lib/python3.7/dist-packages (from scikit-learn->torch-geometric) (1.1.0)\n",
            "Building wheels for collected packages: torch-geometric\n",
            "  Building wheel for torch-geometric (setup.py) ... \u001b[?25l\u001b[?25hdone\n",
            "  Created wheel for torch-geometric: filename=torch_geometric-2.1.0.post1-py3-none-any.whl size=689859 sha256=4f48a9b2de1984b9ca9107402b585a7660ff636abdab3bf6ca5ac79a23cc4260\n",
            "  Stored in directory: /root/.cache/pip/wheels/d1/cb/43/f7f2e472de4d7cff31bceddadc36d634e1e545fbc17961c282\n",
            "Successfully built torch-geometric\n",
            "Installing collected packages: torch-geometric\n",
            "Successfully installed torch-geometric-2.1.0.post1\n"
          ]
        }
      ]
    },
    {
      "cell_type": "code",
      "execution_count": 5,
      "metadata": {
        "id": "wsmJodE77S0G"
      },
      "outputs": [],
      "source": [
        "import torch\n",
        "from torch_geometric.data import Data"
      ]
    },
    {
      "cell_type": "code",
      "source": [
        "edge_index=torch.tensor([[0,1,1,2],\n",
        "                         [1,0,2,1]],dtype=torch.long) ## 엣지는 2개 + undirected\n",
        "x=torch.tensor([[-1],[0],[1]],dtype=torch.float) ## 노드는 3개"
      ],
      "metadata": {
        "id": "aXHLch2b7XrY"
      },
      "execution_count": 8,
      "outputs": []
    },
    {
      "cell_type": "code",
      "source": [
        "data=Data(x=x,edge_index=edge_index)"
      ],
      "metadata": {
        "id": "6ZbP6-gt9alE"
      },
      "execution_count": 14,
      "outputs": []
    },
    {
      "cell_type": "code",
      "source": [
        "data"
      ],
      "metadata": {
        "colab": {
          "base_uri": "https://localhost:8080/"
        },
        "id": "Tfo6MuVn9oIn",
        "outputId": "59d3b9e8-f5b1-4080-8844-1e8bf616f809"
      },
      "execution_count": 15,
      "outputs": [
        {
          "output_type": "execute_result",
          "data": {
            "text/plain": [
              "Data(x=[3, 1], edge_index=[2, 4])"
            ]
          },
          "metadata": {},
          "execution_count": 15
        }
      ]
    },
    {
      "cell_type": "code",
      "source": [
        "data.contains_isolated_nodes"
      ],
      "metadata": {
        "colab": {
          "base_uri": "https://localhost:8080/"
        },
        "id": "cStQ8s4eBV-Q",
        "outputId": "5a51f299-16b0-47ab-b71a-c85a09434f4b"
      },
      "execution_count": 24,
      "outputs": [
        {
          "output_type": "execute_result",
          "data": {
            "text/plain": [
              "<bound method BaseData.contains_isolated_nodes of Data(x=[3, 1], edge_index=[2, 4])>"
            ]
          },
          "metadata": {},
          "execution_count": 24
        }
      ]
    },
    {
      "cell_type": "code",
      "source": [
        "## edge_index를 transpose해서 똑같은 graph를 만들 수 있다.\n",
        "\n",
        "edge_index=torch.tensor([[0,1],\n",
        "                         [1,0],\n",
        "                         [1,2],\n",
        "                         [2,1]],dtype=torch.long) ## 엣지는 2개 + undirected\n",
        "x=torch.tensor([[-1],[0],[1]],dtype=torch.float) ## 노드는 3개"
      ],
      "metadata": {
        "id": "KDkwKMML-mki"
      },
      "execution_count": 16,
      "outputs": []
    },
    {
      "cell_type": "code",
      "source": [
        "data2=Data(x=x,edge_index=edge_index.t().contiguous())"
      ],
      "metadata": {
        "id": "O9VHqYlb_NhJ"
      },
      "execution_count": 17,
      "outputs": []
    },
    {
      "cell_type": "code",
      "source": [
        "data2"
      ],
      "metadata": {
        "colab": {
          "base_uri": "https://localhost:8080/"
        },
        "id": "CmH4179a_RoZ",
        "outputId": "cd1f7e3a-7feb-4aac-b497-2de64817332b"
      },
      "execution_count": 18,
      "outputs": [
        {
          "output_type": "execute_result",
          "data": {
            "text/plain": [
              "Data(x=[3, 1], edge_index=[2, 4])"
            ]
          },
          "metadata": {},
          "execution_count": 18
        }
      ]
    },
    {
      "cell_type": "code",
      "source": [
        "data2.num_nodes # 노드 개수"
      ],
      "metadata": {
        "colab": {
          "base_uri": "https://localhost:8080/"
        },
        "id": "XyuGM5N7_SYO",
        "outputId": "72726603-c860-4f7f-a703-ea9fc9dca4b4"
      },
      "execution_count": 19,
      "outputs": [
        {
          "output_type": "execute_result",
          "data": {
            "text/plain": [
              "3"
            ]
          },
          "metadata": {},
          "execution_count": 19
        }
      ]
    },
    {
      "cell_type": "code",
      "source": [
        "data2.num_edges # 엣지 개수"
      ],
      "metadata": {
        "colab": {
          "base_uri": "https://localhost:8080/"
        },
        "id": "4ZtDW6ks_Y1E",
        "outputId": "8d9235e1-ff30-46a9-ac5e-e530a63b4a6a"
      },
      "execution_count": 20,
      "outputs": [
        {
          "output_type": "execute_result",
          "data": {
            "text/plain": [
              "4"
            ]
          },
          "metadata": {},
          "execution_count": 20
        }
      ]
    },
    {
      "cell_type": "code",
      "source": [
        "data2.contains_isolated_nodes() # 고립 노드 여부 확인"
      ],
      "metadata": {
        "colab": {
          "base_uri": "https://localhost:8080/"
        },
        "id": "DCnzXi6u_avy",
        "outputId": "34898459-385d-4390-c3b9-dcc51fa787b6"
      },
      "execution_count": 21,
      "outputs": [
        {
          "output_type": "stream",
          "name": "stderr",
          "text": [
            "/usr/local/lib/python3.7/dist-packages/torch_geometric/deprecation.py:12: UserWarning: 'contains_isolated_nodes' is deprecated, use 'has_isolated_nodes' instead\n",
            "  warnings.warn(out)\n"
          ]
        },
        {
          "output_type": "execute_result",
          "data": {
            "text/plain": [
              "False"
            ]
          },
          "metadata": {},
          "execution_count": 21
        }
      ]
    },
    {
      "cell_type": "code",
      "source": [
        "data2.contains_self_loops() # 셀프 루프 포함 여부"
      ],
      "metadata": {
        "colab": {
          "base_uri": "https://localhost:8080/"
        },
        "id": "tBkjodTP_f23",
        "outputId": "14a6a738-f486-4b03-9a7f-63020d50b0c3"
      },
      "execution_count": 22,
      "outputs": [
        {
          "output_type": "stream",
          "name": "stderr",
          "text": [
            "/usr/local/lib/python3.7/dist-packages/torch_geometric/deprecation.py:12: UserWarning: 'contains_self_loops' is deprecated, use 'has_self_loops' instead\n",
            "  warnings.warn(out)\n"
          ]
        },
        {
          "output_type": "execute_result",
          "data": {
            "text/plain": [
              "False"
            ]
          },
          "metadata": {},
          "execution_count": 22
        }
      ]
    },
    {
      "cell_type": "code",
      "source": [
        "data2.is_directed() # 그래프의 방향성 존재 여부"
      ],
      "metadata": {
        "colab": {
          "base_uri": "https://localhost:8080/"
        },
        "id": "lTYYSy0G_kaW",
        "outputId": "f872be37-15db-424c-b5e2-c89e423b2b85"
      },
      "execution_count": 23,
      "outputs": [
        {
          "output_type": "execute_result",
          "data": {
            "text/plain": [
              "False"
            ]
          },
          "metadata": {},
          "execution_count": 23
        }
      ]
    },
    {
      "cell_type": "code",
      "source": [],
      "metadata": {
        "id": "B2AB6aMn_o2T"
      },
      "execution_count": null,
      "outputs": []
    },
    {
      "cell_type": "markdown",
      "source": [
        "### Pytorch 예제"
      ],
      "metadata": {
        "id": "Enw5CPKECJcD"
      }
    },
    {
      "cell_type": "markdown",
      "source": [
        "#### ENZYMES 데이터셋"
      ],
      "metadata": {
        "id": "4SDVF9K2EhnD"
      }
    },
    {
      "cell_type": "code",
      "source": [
        "## ENZYMES 예제\n",
        "from torch_geometric.datasets import TUDataset\n",
        "\n",
        "dataset=TUDataset(root='/tmp/ENZYMES',name='ENZYMES')"
      ],
      "metadata": {
        "colab": {
          "base_uri": "https://localhost:8080/"
        },
        "id": "gBdkBpkJCLTM",
        "outputId": "e2932b8a-d916-4282-b46b-ff0ed3671571"
      },
      "execution_count": 25,
      "outputs": [
        {
          "output_type": "stream",
          "name": "stderr",
          "text": [
            "Downloading https://www.chrsmrrs.com/graphkerneldatasets/ENZYMES.zip\n",
            "Extracting /tmp/ENZYMES/ENZYMES/ENZYMES.zip\n",
            "Processing...\n",
            "Done!\n"
          ]
        }
      ]
    },
    {
      "cell_type": "code",
      "source": [
        "len(dataset)"
      ],
      "metadata": {
        "colab": {
          "base_uri": "https://localhost:8080/"
        },
        "id": "rz0XtrOvCXM8",
        "outputId": "2c728e94-1660-4b8b-9ba9-8ecc2b0e78fc"
      },
      "execution_count": 26,
      "outputs": [
        {
          "output_type": "execute_result",
          "data": {
            "text/plain": [
              "600"
            ]
          },
          "metadata": {},
          "execution_count": 26
        }
      ]
    },
    {
      "cell_type": "code",
      "source": [
        "dataset.num_classes # 그래프의 클래스 수 -> 6종류의 클래스를 가진 600개의 그래프 존재"
      ],
      "metadata": {
        "colab": {
          "base_uri": "https://localhost:8080/"
        },
        "id": "HL6VqwYnCbYM",
        "outputId": "3f60acc8-5211-44ff-a9f4-b0c18d13b9af"
      },
      "execution_count": 27,
      "outputs": [
        {
          "output_type": "execute_result",
          "data": {
            "text/plain": [
              "6"
            ]
          },
          "metadata": {},
          "execution_count": 27
        }
      ]
    },
    {
      "cell_type": "code",
      "source": [
        "dataset.num_node_features # 노드의 특징 수"
      ],
      "metadata": {
        "colab": {
          "base_uri": "https://localhost:8080/"
        },
        "id": "2xDhnJZtCcqz",
        "outputId": "4c34be5b-4c7b-4e3e-90db-a76bae512b46"
      },
      "execution_count": 28,
      "outputs": [
        {
          "output_type": "execute_result",
          "data": {
            "text/plain": [
              "3"
            ]
          },
          "metadata": {},
          "execution_count": 28
        }
      ]
    },
    {
      "cell_type": "markdown",
      "source": [
        "데이터셋은 6종류의 클래스를 가진 600개의 그래프가 존재\n",
        "- 인덱스 슬라이싱을 통해 일부만 가져오기 가능"
      ],
      "metadata": {
        "id": "kCIu99xHD3lK"
      }
    },
    {
      "cell_type": "code",
      "source": [
        "dataset[1]\n",
        "## edge_index -> 엣지는 총 84개 // x -> 총 37개의 노드와 3개의 특성 // y -> 그래프 레벨 타깃"
      ],
      "metadata": {
        "colab": {
          "base_uri": "https://localhost:8080/"
        },
        "id": "vAzdmm5-Cgei",
        "outputId": "fa90bbfc-0bba-413f-b80e-78b64188ed3f"
      },
      "execution_count": 29,
      "outputs": [
        {
          "output_type": "execute_result",
          "data": {
            "text/plain": [
              "Data(edge_index=[2, 102], x=[23, 3], y=[1])"
            ]
          },
          "metadata": {},
          "execution_count": 29
        }
      ]
    },
    {
      "cell_type": "code",
      "source": [
        "dataset[0]"
      ],
      "metadata": {
        "colab": {
          "base_uri": "https://localhost:8080/"
        },
        "id": "ycSWqW7mDuyM",
        "outputId": "d660997a-0b89-4c77-f937-5ad4e0d7e2fd"
      },
      "execution_count": 30,
      "outputs": [
        {
          "output_type": "execute_result",
          "data": {
            "text/plain": [
              "Data(edge_index=[2, 168], x=[37, 3], y=[1])"
            ]
          },
          "metadata": {},
          "execution_count": 30
        }
      ]
    },
    {
      "cell_type": "code",
      "source": [
        "dataset[3]"
      ],
      "metadata": {
        "colab": {
          "base_uri": "https://localhost:8080/"
        },
        "id": "_OmRq08mDv_1",
        "outputId": "c495a692-40f0-4ed6-cc81-c7ea7221eea0"
      },
      "execution_count": 31,
      "outputs": [
        {
          "output_type": "execute_result",
          "data": {
            "text/plain": [
              "Data(edge_index=[2, 90], x=[24, 3], y=[1])"
            ]
          },
          "metadata": {},
          "execution_count": 31
        }
      ]
    },
    {
      "cell_type": "code",
      "source": [
        "dataset[599]"
      ],
      "metadata": {
        "colab": {
          "base_uri": "https://localhost:8080/"
        },
        "id": "jfKrwQcADx29",
        "outputId": "6b5c62dc-be29-4f3a-d354-b29624ea3845"
      },
      "execution_count": 33,
      "outputs": [
        {
          "output_type": "execute_result",
          "data": {
            "text/plain": [
              "Data(edge_index=[2, 156], x=[48, 3], y=[1])"
            ]
          },
          "metadata": {},
          "execution_count": 33
        }
      ]
    },
    {
      "cell_type": "code",
      "source": [
        "data.is_undirected() # 방향성 없음"
      ],
      "metadata": {
        "colab": {
          "base_uri": "https://localhost:8080/"
        },
        "id": "A9552Uv9Dz_d",
        "outputId": "2285b3b5-1025-403c-e6ea-633666875aa0"
      },
      "execution_count": 34,
      "outputs": [
        {
          "output_type": "execute_result",
          "data": {
            "text/plain": [
              "True"
            ]
          },
          "metadata": {},
          "execution_count": 34
        }
      ]
    },
    {
      "cell_type": "code",
      "source": [
        "train_dataset=dataset[:540]\n",
        "test_dataset=dataset[540:]"
      ],
      "metadata": {
        "id": "qPB6F1juECor"
      },
      "execution_count": 35,
      "outputs": []
    },
    {
      "cell_type": "code",
      "source": [
        "dataset=dataset.shuffle() ## shuffle"
      ],
      "metadata": {
        "id": "DFRPKBDiEZzs"
      },
      "execution_count": 36,
      "outputs": []
    },
    {
      "cell_type": "markdown",
      "source": [
        "#### Cora 데이터셋"
      ],
      "metadata": {
        "id": "hgor8P2MEmFN"
      }
    },
    {
      "cell_type": "code",
      "source": [
        "from torch_geometric.datasets import Planetoid\n",
        "\n",
        "dataset=Planetoid(root='/tmp/Cora',name='Cora')"
      ],
      "metadata": {
        "colab": {
          "base_uri": "https://localhost:8080/"
        },
        "id": "EM7z2G3ZEcn3",
        "outputId": "4a6bd957-9ae9-4c5b-8606-6e539429b671"
      },
      "execution_count": 37,
      "outputs": [
        {
          "output_type": "stream",
          "name": "stderr",
          "text": [
            "Downloading https://github.com/kimiyoung/planetoid/raw/master/data/ind.cora.x\n",
            "Downloading https://github.com/kimiyoung/planetoid/raw/master/data/ind.cora.tx\n",
            "Downloading https://github.com/kimiyoung/planetoid/raw/master/data/ind.cora.allx\n",
            "Downloading https://github.com/kimiyoung/planetoid/raw/master/data/ind.cora.y\n",
            "Downloading https://github.com/kimiyoung/planetoid/raw/master/data/ind.cora.ty\n",
            "Downloading https://github.com/kimiyoung/planetoid/raw/master/data/ind.cora.ally\n",
            "Downloading https://github.com/kimiyoung/planetoid/raw/master/data/ind.cora.graph\n",
            "Downloading https://github.com/kimiyoung/planetoid/raw/master/data/ind.cora.test.index\n",
            "Processing...\n",
            "Done!\n"
          ]
        }
      ]
    },
    {
      "cell_type": "code",
      "source": [
        "len(dataset) ## length가 1이라는 의미 == 데이터셋 전체가 하나의 그래프"
      ],
      "metadata": {
        "colab": {
          "base_uri": "https://localhost:8080/"
        },
        "id": "bYcFjy0aEvVZ",
        "outputId": "6b6441b8-0aa4-4b0f-a05c-992f85ba4847"
      },
      "execution_count": 38,
      "outputs": [
        {
          "output_type": "execute_result",
          "data": {
            "text/plain": [
              "1"
            ]
          },
          "metadata": {},
          "execution_count": 38
        }
      ]
    },
    {
      "cell_type": "code",
      "source": [
        "dataset.num_classes ## 클래스수 (그래프가 아니라 노드임...이 뭔 소리지)"
      ],
      "metadata": {
        "colab": {
          "base_uri": "https://localhost:8080/"
        },
        "id": "0eLq6b3sExWS",
        "outputId": "675c40dd-451c-4dbd-844d-da8dc4a67f0b"
      },
      "execution_count": 39,
      "outputs": [
        {
          "output_type": "execute_result",
          "data": {
            "text/plain": [
              "7"
            ]
          },
          "metadata": {},
          "execution_count": 39
        }
      ]
    },
    {
      "cell_type": "code",
      "source": [
        "dataset.num_node_features ## 1433개의 노드 특성"
      ],
      "metadata": {
        "colab": {
          "base_uri": "https://localhost:8080/"
        },
        "id": "jeYC7Zt4Eyog",
        "outputId": "02bf556d-3f54-4029-b0ff-33eb64b6f775"
      },
      "execution_count": 40,
      "outputs": [
        {
          "output_type": "execute_result",
          "data": {
            "text/plain": [
              "1433"
            ]
          },
          "metadata": {},
          "execution_count": 40
        }
      ]
    },
    {
      "cell_type": "code",
      "source": [
        "data=dataset[0]"
      ],
      "metadata": {
        "id": "HtZNoeNbGjtU"
      },
      "execution_count": 41,
      "outputs": []
    },
    {
      "cell_type": "code",
      "source": [
        "data"
      ],
      "metadata": {
        "colab": {
          "base_uri": "https://localhost:8080/"
        },
        "id": "s7pS7T_DGuX7",
        "outputId": "ff38a894-4c7f-4e4d-bce9-0e248ecf7321"
      },
      "execution_count": 42,
      "outputs": [
        {
          "output_type": "execute_result",
          "data": {
            "text/plain": [
              "Data(x=[2708, 1433], edge_index=[2, 10556], y=[2708], train_mask=[2708], val_mask=[2708], test_mask=[2708])"
            ]
          },
          "metadata": {},
          "execution_count": 42
        }
      ]
    },
    {
      "cell_type": "code",
      "source": [
        "data.is_undirected()"
      ],
      "metadata": {
        "colab": {
          "base_uri": "https://localhost:8080/"
        },
        "id": "_I9vJmTsGvq2",
        "outputId": "55ce273a-0fb8-4839-9709-c4a515d59fcc"
      },
      "execution_count": 43,
      "outputs": [
        {
          "output_type": "execute_result",
          "data": {
            "text/plain": [
              "True"
            ]
          },
          "metadata": {},
          "execution_count": 43
        }
      ]
    },
    {
      "cell_type": "code",
      "source": [
        "data.train_mask.sum().item() ## train_mask : 학습하기 위해 사용하는 노드"
      ],
      "metadata": {
        "colab": {
          "base_uri": "https://localhost:8080/"
        },
        "id": "pBGpSq4-Hb_C",
        "outputId": "451b849e-815d-4e9a-867a-1bc78049b248"
      },
      "execution_count": 44,
      "outputs": [
        {
          "output_type": "execute_result",
          "data": {
            "text/plain": [
              "140"
            ]
          },
          "metadata": {},
          "execution_count": 44
        }
      ]
    },
    {
      "cell_type": "code",
      "source": [
        "data.val_mask.sum().item() ## val_mask : 검증 시 사용하는 노드"
      ],
      "metadata": {
        "colab": {
          "base_uri": "https://localhost:8080/"
        },
        "id": "1YBoA1THHeG5",
        "outputId": "f074b779-0001-40e2-dc8d-f32a64e6de3b"
      },
      "execution_count": 45,
      "outputs": [
        {
          "output_type": "execute_result",
          "data": {
            "text/plain": [
              "500"
            ]
          },
          "metadata": {},
          "execution_count": 45
        }
      ]
    },
    {
      "cell_type": "code",
      "source": [
        "data.test_mask.sum().item() ## test_mask : 테스트 시 사용하는 노드"
      ],
      "metadata": {
        "colab": {
          "base_uri": "https://localhost:8080/"
        },
        "id": "OBWKtuNoHxQA",
        "outputId": "5620ccc0-1d38-4795-ca9f-5b00a62d8979"
      },
      "execution_count": 46,
      "outputs": [
        {
          "output_type": "execute_result",
          "data": {
            "text/plain": [
              "1000"
            ]
          },
          "metadata": {},
          "execution_count": 46
        }
      ]
    },
    {
      "cell_type": "markdown",
      "source": [
        "### 미니배치"
      ],
      "metadata": {
        "id": "yc0wsXORIW9s"
      }
    },
    {
      "cell_type": "markdown",
      "source": [
        "- Pytorch geometric은 **sparse block diagonal adjacency matrices**을 이용해 미니배치 형태로 만들고, 이를 병렬화 처리함\n",
        "\n",
        "- 이때 feature 행렬과 target 행렬도 노드 기준 동일한 형태로 구성\n",
        "\n",
        "- 구획화된 행렬 (Ai,Xi,Yi)가 하나의 배치가 되어 동작함\n",
        "![image.png](data:image/png;base64,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)"
      ],
      "metadata": {
        "id": "mjb6EWF9IdY5"
      }
    },
    {
      "cell_type": "code",
      "source": [
        "from torch_geometric.datasets import TUDataset\n",
        "from torch_geometric.data import DataLoader\n",
        "\n",
        "dataset=TUDataset(root='tmp/ENZYMES',name='ENZYMES',use_node_attr=True)\n",
        "loader=DataLoader(dataset,batch_size=32) ## 1082개의 노드들에 대해 32개의 batch 부여\n",
        "\n",
        "for batch in loader:\n",
        "  print(batch)\n",
        "  print(batch.num_graphs)\n",
        "  print(\"============================================\")"
      ],
      "metadata": {
        "colab": {
          "base_uri": "https://localhost:8080/"
        },
        "id": "vwRCqS42H7WR",
        "outputId": "030eb51a-12c2-4239-d753-3790ca7a983f"
      },
      "execution_count": 49,
      "outputs": [
        {
          "output_type": "stream",
          "name": "stderr",
          "text": [
            "/usr/local/lib/python3.7/dist-packages/torch_geometric/deprecation.py:12: UserWarning: 'data.DataLoader' is deprecated, use 'loader.DataLoader' instead\n",
            "  warnings.warn(out)\n"
          ]
        },
        {
          "output_type": "stream",
          "name": "stdout",
          "text": [
            "DataBatch(edge_index=[2, 4264], x=[1069, 21], y=[32], batch=[1069], ptr=[33])\n",
            "32\n",
            "============================================\n",
            "DataBatch(edge_index=[2, 3444], x=[972, 21], y=[32], batch=[972], ptr=[33])\n",
            "32\n",
            "============================================\n",
            "DataBatch(edge_index=[2, 3848], x=[976, 21], y=[32], batch=[976], ptr=[33])\n",
            "32\n",
            "============================================\n",
            "DataBatch(edge_index=[2, 4026], x=[1099, 21], y=[32], batch=[1099], ptr=[33])\n",
            "32\n",
            "============================================\n",
            "DataBatch(edge_index=[2, 2560], x=[669, 21], y=[32], batch=[669], ptr=[33])\n",
            "32\n",
            "============================================\n",
            "DataBatch(edge_index=[2, 4428], x=[1105, 21], y=[32], batch=[1105], ptr=[33])\n",
            "32\n",
            "============================================\n",
            "DataBatch(edge_index=[2, 4434], x=[1145, 21], y=[32], batch=[1145], ptr=[33])\n",
            "32\n",
            "============================================\n",
            "DataBatch(edge_index=[2, 3614], x=[911, 21], y=[32], batch=[911], ptr=[33])\n",
            "32\n",
            "============================================\n",
            "DataBatch(edge_index=[2, 4144], x=[1096, 21], y=[32], batch=[1096], ptr=[33])\n",
            "32\n",
            "============================================\n",
            "DataBatch(edge_index=[2, 5558], x=[1654, 21], y=[32], batch=[1654], ptr=[33])\n",
            "32\n",
            "============================================\n",
            "DataBatch(edge_index=[2, 3538], x=[927, 21], y=[32], batch=[927], ptr=[33])\n",
            "32\n",
            "============================================\n",
            "DataBatch(edge_index=[2, 3192], x=[845, 21], y=[32], batch=[845], ptr=[33])\n",
            "32\n",
            "============================================\n",
            "DataBatch(edge_index=[2, 3582], x=[926, 21], y=[32], batch=[926], ptr=[33])\n",
            "32\n",
            "============================================\n",
            "DataBatch(edge_index=[2, 3642], x=[943, 21], y=[32], batch=[943], ptr=[33])\n",
            "32\n",
            "============================================\n",
            "DataBatch(edge_index=[2, 2872], x=[740, 21], y=[32], batch=[740], ptr=[33])\n",
            "32\n",
            "============================================\n",
            "DataBatch(edge_index=[2, 4198], x=[1112, 21], y=[32], batch=[1112], ptr=[33])\n",
            "32\n",
            "============================================\n",
            "DataBatch(edge_index=[2, 5322], x=[1342, 21], y=[32], batch=[1342], ptr=[33])\n",
            "32\n",
            "============================================\n",
            "DataBatch(edge_index=[2, 4356], x=[1150, 21], y=[32], batch=[1150], ptr=[33])\n",
            "32\n",
            "============================================\n",
            "DataBatch(edge_index=[2, 3542], x=[899, 21], y=[24], batch=[899], ptr=[25])\n",
            "24\n",
            "============================================\n"
          ]
        }
      ]
    },
    {
      "cell_type": "markdown",
      "source": [
        "### 데이터 변환\n",
        "\n",
        "- ShapeNet 데이터 : 17000건의 3D 형태의 점 구름 데이터 (총 16개의 카테고리)"
      ],
      "metadata": {
        "id": "wt-dsZn9KzmP"
      }
    },
    {
      "cell_type": "code",
      "source": [
        "from torch_geometric.datasets import ShapeNet\n",
        "\n",
        "dataset=ShapeNet(root='/tmp/ShapeNet',categories=['Airplane'])\n",
        "dataset[0]\n",
        "## edge_index가 없다 == 연결관계 없음\n",
        "## pos=[2518,3]의 의미 : 2518개의 점 데이터와 3차원임"
      ],
      "metadata": {
        "colab": {
          "base_uri": "https://localhost:8080/"
        },
        "id": "C-z3sFBeKV11",
        "outputId": "2c4b4822-8f88-403b-cc39-b63c697696bd"
      },
      "execution_count": 50,
      "outputs": [
        {
          "output_type": "stream",
          "name": "stderr",
          "text": [
            "Downloading https://shapenet.cs.stanford.edu/media/shapenetcore_partanno_segmentation_benchmark_v0_normal.zip\n",
            "Extracting tmp/ShapeNet/shapenetcore_partanno_segmentation_benchmark_v0_normal.zip\n",
            "Processing...\n",
            "Done!\n"
          ]
        },
        {
          "output_type": "execute_result",
          "data": {
            "text/plain": [
              "Data(x=[2518, 3], y=[2518], pos=[2518, 3], category=[1])"
            ]
          },
          "metadata": {},
          "execution_count": 50
        }
      ]
    },
    {
      "cell_type": "code",
      "source": [
        "## transform\n",
        "import torch_geometric.transforms as T\n",
        "from torch_geometric.datasets import ShapeNet\n",
        "\n",
        "dataset=ShapeNet(root='/tmp/ShapeNet',categories=['Airplane'],\n",
        "                 pre_transform=T.KNNGraph(k=6), ## KNN을 통해 데이터를 그래프 형태로 변환 (엣지 생긴것 확인 가능)\n",
        "                 transform=T.RandomTranslate(0.01)) ## 각 노드들의 위치를 아주 조금 이동 (perturbation 작업 일종)\n",
        "dataset[0]"
      ],
      "metadata": {
        "colab": {
          "base_uri": "https://localhost:8080/"
        },
        "id": "9Pvo530zLQnN",
        "outputId": "e0313c7c-dc52-407f-926e-22a24fa9e47c"
      },
      "execution_count": 54,
      "outputs": [
        {
          "output_type": "stream",
          "name": "stderr",
          "text": [
            "Downloading https://shapenet.cs.stanford.edu/media/shapenetcore_partanno_segmentation_benchmark_v0_normal.zip\n",
            "Extracting /tmp/ShapeNet/shapenetcore_partanno_segmentation_benchmark_v0_normal.zip\n",
            "Processing...\n",
            "Done!\n"
          ]
        },
        {
          "output_type": "execute_result",
          "data": {
            "text/plain": [
              "Data(x=[2518, 3], y=[2518], pos=[2518, 3], category=[1], edge_index=[2, 15108])"
            ]
          },
          "metadata": {},
          "execution_count": 54
        }
      ]
    },
    {
      "cell_type": "markdown",
      "source": [
        "### 그래프로 학습하기\n",
        "\n",
        "- 간단한 GCN layer을 구성한 뒤 Cora 데이터셋에 적용\n",
        "  - Cora : 2708개의 scientific publication으로 구성된 데이터\n",
        "  - citation network : 각 논문은 노드, 인용관계는 edge\n",
        "\n",
        "- Graph Node Classification\n",
        "  - 임의의 논문에 대해 논문 내 등장한 단어들과 인용 관계만으로 어떤 종류의 논문인지 맞히는 task"
      ],
      "metadata": {
        "id": "w53u_6VaNiKM"
      }
    },
    {
      "cell_type": "code",
      "source": [
        "## 데이터셋 불러오기\n",
        "from torch_geometric.datasets import Planetoid\n",
        "\n",
        "dataset=Planetoid(root='/tmp/Cora',name='Cora')"
      ],
      "metadata": {
        "id": "5lnm36yTLVPL"
      },
      "execution_count": 55,
      "outputs": []
    },
    {
      "cell_type": "code",
      "source": [
        "## GNN 생성 - 2개의 GCNConv layer 형성\n",
        "import torch\n",
        "import torch.nn.functional as F\n",
        "from torch_geometric.nn import GCNConv\n",
        "\n",
        "class Net(torch.nn.Module):\n",
        "  def __init__(self):\n",
        "    super(Net,self).__init__()\n",
        "    self.conv1=GCNConv(dataset.num_node_features,16)\n",
        "    self.conv2=GCNConv(16,dataset.num_classes)\n",
        "  \n",
        "  def forward(self,data):\n",
        "    x,edge_index=data.x,data.edge_index\n",
        "\n",
        "    x=self.conv1(x,edge_index)\n",
        "    x=F.relu(x)\n",
        "    x=F.dropout(x,training=self.training)\n",
        "    x=self.conv2(x,edge_index)\n",
        "\n",
        "    return F.log_softmax(x,dim=1)"
      ],
      "metadata": {
        "id": "p9LV56aPOk-3"
      },
      "execution_count": 56,
      "outputs": []
    },
    {
      "cell_type": "code",
      "source": [
        "## 이미 정의된 train_mask 이용해 학습 데이터 구분\n",
        "device=torch.device(\"cuda\" if torch.cuda.is_available() else \"cpu\")\n",
        "model=Net().to(device)\n",
        "data=dataset[0].to(device)\n",
        "optimizer=torch.optim.Adam(model.parameters(),lr=0.01,weight_decay=5e-4)\n",
        "\n",
        "model.train()\n",
        "\n",
        "for epoch in range(200):\n",
        "  optimizer.zero_grad()\n",
        "  out=model(data)\n",
        "  loss=F.nll_loss(out[data.train_mask],data.y[data.train_mask])\n",
        "  loss.backward()\n",
        "  optimizer.step()"
      ],
      "metadata": {
        "id": "NPu8VW-_PkX_"
      },
      "execution_count": 58,
      "outputs": []
    },
    {
      "cell_type": "code",
      "source": [
        "model.eval()\n",
        "_,pred=model(data).max(dim=1)\n",
        "correct=float(pred[data.test_mask].eq(data.y[data.test_mask]).sum().item())\n",
        "acc=correct/data.test_mask.sum().item()\n",
        "print('Accuracy: {:4f}'.format(acc))"
      ],
      "metadata": {
        "colab": {
          "base_uri": "https://localhost:8080/"
        },
        "id": "DusLx41YQUh-",
        "outputId": "68153a84-99d0-4c79-c8ef-4077b78529df"
      },
      "execution_count": 60,
      "outputs": [
        {
          "output_type": "stream",
          "name": "stdout",
          "text": [
            "Accuracy: 0.803000\n"
          ]
        }
      ]
    }
  ]
}